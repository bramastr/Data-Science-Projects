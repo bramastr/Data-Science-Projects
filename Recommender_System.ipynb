{
  "nbformat": 4,
  "nbformat_minor": 0,
  "metadata": {
    "colab": {
      "name": "Recommender System.ipynb",
      "provenance": [],
      "collapsed_sections": [],
      "authorship_tag": "ABX9TyPHA8rs0CTqeqEZlMb25w66",
      "include_colab_link": true
    },
    "kernelspec": {
      "name": "python3",
      "display_name": "Python 3"
    }
  },
  "cells": [
    {
      "cell_type": "markdown",
      "metadata": {
        "id": "view-in-github",
        "colab_type": "text"
      },
      "source": [
        "<a href=\"https://colab.research.google.com/github/bramastr/Recommender-System/blob/master/Recommender_System.ipynb\" target=\"_parent\"><img src=\"https://colab.research.google.com/assets/colab-badge.svg\" alt=\"Open In Colab\"/></a>"
      ]
    },
    {
      "cell_type": "code",
      "metadata": {
        "id": "4R9envBLLDAS"
      },
      "source": [
        "import pandas as pd\r\n",
        "import numpy as np"
      ],
      "execution_count": null,
      "outputs": []
    },
    {
      "cell_type": "code",
      "metadata": {
        "id": "4hlvVH4XL78U"
      },
      "source": [
        "movie_df = pd.read_csv('https://dqlab-dataset.s3-ap-southeast-1.amazonaws.com/title.basics.tsv',delimiter='\\t',encoding='utf-8')\r\n",
        "rating_df = pd.read_csv('https://dqlab-dataset.s3-ap-southeast-1.amazonaws.com/title.ratings.tsv',delimiter='\\t',encoding='utf-8')"
      ],
      "execution_count": null,
      "outputs": []
    },
    {
      "cell_type": "code",
      "metadata": {
        "colab": {
          "base_uri": "https://localhost:8080/",
          "height": 204
        },
        "id": "XRzDRLSKOs1u",
        "outputId": "366a7b90-7b78-488b-ce8b-981b5c72487d"
      },
      "source": [
        "movie_df.head()"
      ],
      "execution_count": null,
      "outputs": [
        {
          "output_type": "execute_result",
          "data": {
            "text/html": [
              "<div>\n",
              "<style scoped>\n",
              "    .dataframe tbody tr th:only-of-type {\n",
              "        vertical-align: middle;\n",
              "    }\n",
              "\n",
              "    .dataframe tbody tr th {\n",
              "        vertical-align: top;\n",
              "    }\n",
              "\n",
              "    .dataframe thead th {\n",
              "        text-align: right;\n",
              "    }\n",
              "</style>\n",
              "<table border=\"1\" class=\"dataframe\">\n",
              "  <thead>\n",
              "    <tr style=\"text-align: right;\">\n",
              "      <th></th>\n",
              "      <th>tconst</th>\n",
              "      <th>titleType</th>\n",
              "      <th>primaryTitle</th>\n",
              "      <th>originalTitle</th>\n",
              "      <th>isAdult</th>\n",
              "      <th>startYear</th>\n",
              "      <th>endYear</th>\n",
              "      <th>runtimeMinutes</th>\n",
              "      <th>genres</th>\n",
              "    </tr>\n",
              "  </thead>\n",
              "  <tbody>\n",
              "    <tr>\n",
              "      <th>0</th>\n",
              "      <td>tt0221078</td>\n",
              "      <td>short</td>\n",
              "      <td>Circle Dance, Ute Indians</td>\n",
              "      <td>Circle Dance, Ute Indians</td>\n",
              "      <td>0</td>\n",
              "      <td>1898</td>\n",
              "      <td>\\N</td>\n",
              "      <td>\\N</td>\n",
              "      <td>Documentary,Short</td>\n",
              "    </tr>\n",
              "    <tr>\n",
              "      <th>1</th>\n",
              "      <td>tt8862466</td>\n",
              "      <td>tvEpisode</td>\n",
              "      <td>¡El #TeamOsos va con todo al \"Reality del amor\"!</td>\n",
              "      <td>¡El #TeamOsos va con todo al \"Reality del amor\"!</td>\n",
              "      <td>0</td>\n",
              "      <td>2018</td>\n",
              "      <td>\\N</td>\n",
              "      <td>\\N</td>\n",
              "      <td>Comedy,Drama</td>\n",
              "    </tr>\n",
              "    <tr>\n",
              "      <th>2</th>\n",
              "      <td>tt7157720</td>\n",
              "      <td>tvEpisode</td>\n",
              "      <td>Episode #3.41</td>\n",
              "      <td>Episode #3.41</td>\n",
              "      <td>0</td>\n",
              "      <td>2016</td>\n",
              "      <td>\\N</td>\n",
              "      <td>29</td>\n",
              "      <td>Comedy,Game-Show</td>\n",
              "    </tr>\n",
              "    <tr>\n",
              "      <th>3</th>\n",
              "      <td>tt2974998</td>\n",
              "      <td>tvEpisode</td>\n",
              "      <td>Episode dated 16 May 1987</td>\n",
              "      <td>Episode dated 16 May 1987</td>\n",
              "      <td>0</td>\n",
              "      <td>1987</td>\n",
              "      <td>\\N</td>\n",
              "      <td>\\N</td>\n",
              "      <td>News</td>\n",
              "    </tr>\n",
              "    <tr>\n",
              "      <th>4</th>\n",
              "      <td>tt2903620</td>\n",
              "      <td>tvEpisode</td>\n",
              "      <td>Frances Bavier: Aunt Bee Retires</td>\n",
              "      <td>Frances Bavier: Aunt Bee Retires</td>\n",
              "      <td>0</td>\n",
              "      <td>1973</td>\n",
              "      <td>\\N</td>\n",
              "      <td>\\N</td>\n",
              "      <td>Documentary</td>\n",
              "    </tr>\n",
              "  </tbody>\n",
              "</table>\n",
              "</div>"
            ],
            "text/plain": [
              "      tconst  titleType  ... runtimeMinutes             genres\n",
              "0  tt0221078      short  ...             \\N  Documentary,Short\n",
              "1  tt8862466  tvEpisode  ...             \\N       Comedy,Drama\n",
              "2  tt7157720  tvEpisode  ...             29   Comedy,Game-Show\n",
              "3  tt2974998  tvEpisode  ...             \\N               News\n",
              "4  tt2903620  tvEpisode  ...             \\N        Documentary\n",
              "\n",
              "[5 rows x 9 columns]"
            ]
          },
          "metadata": {
            "tags": []
          },
          "execution_count": 3
        }
      ]
    },
    {
      "cell_type": "code",
      "metadata": {
        "colab": {
          "base_uri": "https://localhost:8080/"
        },
        "id": "jJWOnzgIOvKx",
        "outputId": "074fc87e-3732-4c49-ec04-0b5696d50cd0"
      },
      "source": [
        "movie_df.info()"
      ],
      "execution_count": null,
      "outputs": [
        {
          "output_type": "stream",
          "text": [
            "<class 'pandas.core.frame.DataFrame'>\n",
            "RangeIndex: 9025 entries, 0 to 9024\n",
            "Data columns (total 9 columns):\n",
            " #   Column          Non-Null Count  Dtype \n",
            "---  ------          --------------  ----- \n",
            " 0   tconst          9025 non-null   object\n",
            " 1   titleType       9025 non-null   object\n",
            " 2   primaryTitle    9011 non-null   object\n",
            " 3   originalTitle   9011 non-null   object\n",
            " 4   isAdult         9025 non-null   int64 \n",
            " 5   startYear       9025 non-null   object\n",
            " 6   endYear         9025 non-null   object\n",
            " 7   runtimeMinutes  9025 non-null   object\n",
            " 8   genres          9014 non-null   object\n",
            "dtypes: int64(1), object(8)\n",
            "memory usage: 634.7+ KB\n"
          ],
          "name": "stdout"
        }
      ]
    },
    {
      "cell_type": "code",
      "metadata": {
        "colab": {
          "base_uri": "https://localhost:8080/"
        },
        "id": "wUUk3JT3S70u",
        "outputId": "7913e511-bbf1-45dd-c7d6-76cd4bdd6088"
      },
      "source": [
        "movie_df.isnull().sum()"
      ],
      "execution_count": null,
      "outputs": [
        {
          "output_type": "execute_result",
          "data": {
            "text/plain": [
              "tconst             0\n",
              "titleType          0\n",
              "primaryTitle      14\n",
              "originalTitle     14\n",
              "isAdult            0\n",
              "startYear          0\n",
              "endYear            0\n",
              "runtimeMinutes     0\n",
              "genres            11\n",
              "dtype: int64"
            ]
          },
          "metadata": {
            "tags": []
          },
          "execution_count": 5
        }
      ]
    },
    {
      "cell_type": "code",
      "metadata": {
        "colab": {
          "base_uri": "https://localhost:8080/",
          "height": 824
        },
        "id": "oxGWP2jpVbdR",
        "outputId": "fc2bc6a4-9a35-411c-f70a-bb489548a701"
      },
      "source": [
        "movie_df.loc[(movie_df['primaryTitle'].isnull()) | (movie_df['originalTitle'].isnull()) | (movie_df['genres'].isnull())]"
      ],
      "execution_count": null,
      "outputs": [
        {
          "output_type": "execute_result",
          "data": {
            "text/html": [
              "<div>\n",
              "<style scoped>\n",
              "    .dataframe tbody tr th:only-of-type {\n",
              "        vertical-align: middle;\n",
              "    }\n",
              "\n",
              "    .dataframe tbody tr th {\n",
              "        vertical-align: top;\n",
              "    }\n",
              "\n",
              "    .dataframe thead th {\n",
              "        text-align: right;\n",
              "    }\n",
              "</style>\n",
              "<table border=\"1\" class=\"dataframe\">\n",
              "  <thead>\n",
              "    <tr style=\"text-align: right;\">\n",
              "      <th></th>\n",
              "      <th>tconst</th>\n",
              "      <th>titleType</th>\n",
              "      <th>primaryTitle</th>\n",
              "      <th>originalTitle</th>\n",
              "      <th>isAdult</th>\n",
              "      <th>startYear</th>\n",
              "      <th>endYear</th>\n",
              "      <th>runtimeMinutes</th>\n",
              "      <th>genres</th>\n",
              "    </tr>\n",
              "  </thead>\n",
              "  <tbody>\n",
              "    <tr>\n",
              "      <th>9000</th>\n",
              "      <td>tt10790040</td>\n",
              "      <td>tvEpisode</td>\n",
              "      <td>NaN</td>\n",
              "      <td>NaN</td>\n",
              "      <td>0</td>\n",
              "      <td>2019</td>\n",
              "      <td>\\N</td>\n",
              "      <td>\\N</td>\n",
              "      <td>\\N</td>\n",
              "    </tr>\n",
              "    <tr>\n",
              "      <th>9001</th>\n",
              "      <td>tt10891902</td>\n",
              "      <td>tvEpisode</td>\n",
              "      <td>NaN</td>\n",
              "      <td>NaN</td>\n",
              "      <td>0</td>\n",
              "      <td>2020</td>\n",
              "      <td>\\N</td>\n",
              "      <td>\\N</td>\n",
              "      <td>Crime</td>\n",
              "    </tr>\n",
              "    <tr>\n",
              "      <th>9002</th>\n",
              "      <td>tt11737860</td>\n",
              "      <td>tvEpisode</td>\n",
              "      <td>NaN</td>\n",
              "      <td>NaN</td>\n",
              "      <td>0</td>\n",
              "      <td>2020</td>\n",
              "      <td>\\N</td>\n",
              "      <td>\\N</td>\n",
              "      <td>Comedy,Drama,Romance</td>\n",
              "    </tr>\n",
              "    <tr>\n",
              "      <th>9003</th>\n",
              "      <td>tt11737862</td>\n",
              "      <td>tvEpisode</td>\n",
              "      <td>NaN</td>\n",
              "      <td>NaN</td>\n",
              "      <td>0</td>\n",
              "      <td>2020</td>\n",
              "      <td>\\N</td>\n",
              "      <td>\\N</td>\n",
              "      <td>Comedy,Drama,Romance</td>\n",
              "    </tr>\n",
              "    <tr>\n",
              "      <th>9004</th>\n",
              "      <td>tt11737866</td>\n",
              "      <td>tvEpisode</td>\n",
              "      <td>NaN</td>\n",
              "      <td>NaN</td>\n",
              "      <td>0</td>\n",
              "      <td>2020</td>\n",
              "      <td>\\N</td>\n",
              "      <td>\\N</td>\n",
              "      <td>Comedy,Drama,Romance</td>\n",
              "    </tr>\n",
              "    <tr>\n",
              "      <th>9005</th>\n",
              "      <td>tt11737872</td>\n",
              "      <td>tvEpisode</td>\n",
              "      <td>NaN</td>\n",
              "      <td>NaN</td>\n",
              "      <td>0</td>\n",
              "      <td>2020</td>\n",
              "      <td>\\N</td>\n",
              "      <td>\\N</td>\n",
              "      <td>\\N</td>\n",
              "    </tr>\n",
              "    <tr>\n",
              "      <th>9006</th>\n",
              "      <td>tt11737874</td>\n",
              "      <td>tvEpisode</td>\n",
              "      <td>NaN</td>\n",
              "      <td>NaN</td>\n",
              "      <td>0</td>\n",
              "      <td>2020</td>\n",
              "      <td>\\N</td>\n",
              "      <td>\\N</td>\n",
              "      <td>Comedy,Drama,Romance</td>\n",
              "    </tr>\n",
              "    <tr>\n",
              "      <th>9007</th>\n",
              "      <td>tt1971246</td>\n",
              "      <td>tvEpisode</td>\n",
              "      <td>NaN</td>\n",
              "      <td>NaN</td>\n",
              "      <td>0</td>\n",
              "      <td>2011</td>\n",
              "      <td>\\N</td>\n",
              "      <td>\\N</td>\n",
              "      <td>Biography</td>\n",
              "    </tr>\n",
              "    <tr>\n",
              "      <th>9008</th>\n",
              "      <td>tt2067043</td>\n",
              "      <td>tvEpisode</td>\n",
              "      <td>NaN</td>\n",
              "      <td>NaN</td>\n",
              "      <td>0</td>\n",
              "      <td>1965</td>\n",
              "      <td>\\N</td>\n",
              "      <td>\\N</td>\n",
              "      <td>Music</td>\n",
              "    </tr>\n",
              "    <tr>\n",
              "      <th>9009</th>\n",
              "      <td>tt4404732</td>\n",
              "      <td>tvEpisode</td>\n",
              "      <td>NaN</td>\n",
              "      <td>NaN</td>\n",
              "      <td>0</td>\n",
              "      <td>2015</td>\n",
              "      <td>\\N</td>\n",
              "      <td>\\N</td>\n",
              "      <td>Comedy</td>\n",
              "    </tr>\n",
              "    <tr>\n",
              "      <th>9010</th>\n",
              "      <td>tt5773048</td>\n",
              "      <td>tvEpisode</td>\n",
              "      <td>NaN</td>\n",
              "      <td>NaN</td>\n",
              "      <td>0</td>\n",
              "      <td>2015</td>\n",
              "      <td>\\N</td>\n",
              "      <td>\\N</td>\n",
              "      <td>Talk-Show</td>\n",
              "    </tr>\n",
              "    <tr>\n",
              "      <th>9011</th>\n",
              "      <td>tt8473688</td>\n",
              "      <td>tvEpisode</td>\n",
              "      <td>NaN</td>\n",
              "      <td>NaN</td>\n",
              "      <td>0</td>\n",
              "      <td>1987</td>\n",
              "      <td>\\N</td>\n",
              "      <td>\\N</td>\n",
              "      <td>Drama</td>\n",
              "    </tr>\n",
              "    <tr>\n",
              "      <th>9012</th>\n",
              "      <td>tt8541336</td>\n",
              "      <td>tvEpisode</td>\n",
              "      <td>NaN</td>\n",
              "      <td>NaN</td>\n",
              "      <td>0</td>\n",
              "      <td>2018</td>\n",
              "      <td>\\N</td>\n",
              "      <td>\\N</td>\n",
              "      <td>Reality-TV,Romance</td>\n",
              "    </tr>\n",
              "    <tr>\n",
              "      <th>9013</th>\n",
              "      <td>tt9824302</td>\n",
              "      <td>tvEpisode</td>\n",
              "      <td>NaN</td>\n",
              "      <td>NaN</td>\n",
              "      <td>0</td>\n",
              "      <td>2016</td>\n",
              "      <td>\\N</td>\n",
              "      <td>\\N</td>\n",
              "      <td>Documentary</td>\n",
              "    </tr>\n",
              "    <tr>\n",
              "      <th>9014</th>\n",
              "      <td>tt10233364</td>\n",
              "      <td>tvEpisode</td>\n",
              "      <td>Rolling in the Deep Dish\\tRolling in the Deep ...</td>\n",
              "      <td>0</td>\n",
              "      <td>2019</td>\n",
              "      <td>\\N</td>\n",
              "      <td>\\N</td>\n",
              "      <td>Reality-TV</td>\n",
              "      <td>NaN</td>\n",
              "    </tr>\n",
              "    <tr>\n",
              "      <th>9015</th>\n",
              "      <td>tt10925142</td>\n",
              "      <td>tvEpisode</td>\n",
              "      <td>The IMDb Show on Location: Star Wars Galaxy's ...</td>\n",
              "      <td>0</td>\n",
              "      <td>2019</td>\n",
              "      <td>\\N</td>\n",
              "      <td>\\N</td>\n",
              "      <td>Talk-Show</td>\n",
              "      <td>NaN</td>\n",
              "    </tr>\n",
              "    <tr>\n",
              "      <th>9016</th>\n",
              "      <td>tt10970874</td>\n",
              "      <td>tvEpisode</td>\n",
              "      <td>Die Bauhaus-Stadt Tel Aviv - Vorbild für die M...</td>\n",
              "      <td>0</td>\n",
              "      <td>2019</td>\n",
              "      <td>\\N</td>\n",
              "      <td>\\N</td>\n",
              "      <td>\\N</td>\n",
              "      <td>NaN</td>\n",
              "    </tr>\n",
              "    <tr>\n",
              "      <th>9017</th>\n",
              "      <td>tt11670006</td>\n",
              "      <td>tvEpisode</td>\n",
              "      <td>...ein angenehmer Unbequemer...\\t...ein angene...</td>\n",
              "      <td>0</td>\n",
              "      <td>1981</td>\n",
              "      <td>\\N</td>\n",
              "      <td>\\N</td>\n",
              "      <td>Documentary</td>\n",
              "      <td>NaN</td>\n",
              "    </tr>\n",
              "    <tr>\n",
              "      <th>9018</th>\n",
              "      <td>tt11868642</td>\n",
              "      <td>tvEpisode</td>\n",
              "      <td>GGN Heavyweight Championship Lungs With Mike T...</td>\n",
              "      <td>0</td>\n",
              "      <td>2020</td>\n",
              "      <td>\\N</td>\n",
              "      <td>\\N</td>\n",
              "      <td>Talk-Show</td>\n",
              "      <td>NaN</td>\n",
              "    </tr>\n",
              "    <tr>\n",
              "      <th>9019</th>\n",
              "      <td>tt2347742</td>\n",
              "      <td>tvEpisode</td>\n",
              "      <td>No sufras por la alergia esta primavera\\tNo su...</td>\n",
              "      <td>0</td>\n",
              "      <td>2004</td>\n",
              "      <td>\\N</td>\n",
              "      <td>\\N</td>\n",
              "      <td>\\N</td>\n",
              "      <td>NaN</td>\n",
              "    </tr>\n",
              "    <tr>\n",
              "      <th>9020</th>\n",
              "      <td>tt3984412</td>\n",
              "      <td>tvEpisode</td>\n",
              "      <td>I'm Not Going to Come Last, I'm Just Going to ...</td>\n",
              "      <td>0</td>\n",
              "      <td>2014</td>\n",
              "      <td>\\N</td>\n",
              "      <td>\\N</td>\n",
              "      <td>Reality-TV</td>\n",
              "      <td>NaN</td>\n",
              "    </tr>\n",
              "    <tr>\n",
              "      <th>9021</th>\n",
              "      <td>tt8740950</td>\n",
              "      <td>tvEpisode</td>\n",
              "      <td>Weight Loss Resolution Restart - Ins &amp; Outs of...</td>\n",
              "      <td>0</td>\n",
              "      <td>2015</td>\n",
              "      <td>\\N</td>\n",
              "      <td>\\N</td>\n",
              "      <td>Reality-TV</td>\n",
              "      <td>NaN</td>\n",
              "    </tr>\n",
              "    <tr>\n",
              "      <th>9022</th>\n",
              "      <td>tt9822816</td>\n",
              "      <td>tvEpisode</td>\n",
              "      <td>Zwischen Vertuschung und Aufklärung - Missbrau...</td>\n",
              "      <td>0</td>\n",
              "      <td>2019</td>\n",
              "      <td>\\N</td>\n",
              "      <td>\\N</td>\n",
              "      <td>\\N</td>\n",
              "      <td>NaN</td>\n",
              "    </tr>\n",
              "    <tr>\n",
              "      <th>9023</th>\n",
              "      <td>tt9900062</td>\n",
              "      <td>tvEpisode</td>\n",
              "      <td>The Direction of Yuu's Love: Hings Aren't Goin...</td>\n",
              "      <td>0</td>\n",
              "      <td>1994</td>\n",
              "      <td>\\N</td>\n",
              "      <td>\\N</td>\n",
              "      <td>Animation,Comedy,Drama</td>\n",
              "      <td>NaN</td>\n",
              "    </tr>\n",
              "    <tr>\n",
              "      <th>9024</th>\n",
              "      <td>tt9909210</td>\n",
              "      <td>tvEpisode</td>\n",
              "      <td>Politik und/oder Moral - Wie weit geht das Ver...</td>\n",
              "      <td>0</td>\n",
              "      <td>2005</td>\n",
              "      <td>\\N</td>\n",
              "      <td>\\N</td>\n",
              "      <td>\\N</td>\n",
              "      <td>NaN</td>\n",
              "    </tr>\n",
              "  </tbody>\n",
              "</table>\n",
              "</div>"
            ],
            "text/plain": [
              "          tconst  titleType  ...          runtimeMinutes                genres\n",
              "9000  tt10790040  tvEpisode  ...                      \\N                    \\N\n",
              "9001  tt10891902  tvEpisode  ...                      \\N                 Crime\n",
              "9002  tt11737860  tvEpisode  ...                      \\N  Comedy,Drama,Romance\n",
              "9003  tt11737862  tvEpisode  ...                      \\N  Comedy,Drama,Romance\n",
              "9004  tt11737866  tvEpisode  ...                      \\N  Comedy,Drama,Romance\n",
              "9005  tt11737872  tvEpisode  ...                      \\N                    \\N\n",
              "9006  tt11737874  tvEpisode  ...                      \\N  Comedy,Drama,Romance\n",
              "9007   tt1971246  tvEpisode  ...                      \\N             Biography\n",
              "9008   tt2067043  tvEpisode  ...                      \\N                 Music\n",
              "9009   tt4404732  tvEpisode  ...                      \\N                Comedy\n",
              "9010   tt5773048  tvEpisode  ...                      \\N             Talk-Show\n",
              "9011   tt8473688  tvEpisode  ...                      \\N                 Drama\n",
              "9012   tt8541336  tvEpisode  ...                      \\N    Reality-TV,Romance\n",
              "9013   tt9824302  tvEpisode  ...                      \\N           Documentary\n",
              "9014  tt10233364  tvEpisode  ...              Reality-TV                   NaN\n",
              "9015  tt10925142  tvEpisode  ...               Talk-Show                   NaN\n",
              "9016  tt10970874  tvEpisode  ...                      \\N                   NaN\n",
              "9017  tt11670006  tvEpisode  ...             Documentary                   NaN\n",
              "9018  tt11868642  tvEpisode  ...               Talk-Show                   NaN\n",
              "9019   tt2347742  tvEpisode  ...                      \\N                   NaN\n",
              "9020   tt3984412  tvEpisode  ...              Reality-TV                   NaN\n",
              "9021   tt8740950  tvEpisode  ...              Reality-TV                   NaN\n",
              "9022   tt9822816  tvEpisode  ...                      \\N                   NaN\n",
              "9023   tt9900062  tvEpisode  ...  Animation,Comedy,Drama                   NaN\n",
              "9024   tt9909210  tvEpisode  ...                      \\N                   NaN\n",
              "\n",
              "[25 rows x 9 columns]"
            ]
          },
          "metadata": {
            "tags": []
          },
          "execution_count": 6
        }
      ]
    },
    {
      "cell_type": "code",
      "metadata": {
        "colab": {
          "base_uri": "https://localhost:8080/"
        },
        "id": "GK6ex_scjXef",
        "outputId": "82d4c6f2-bb76-4f6a-9ad8-81d24a7047a8"
      },
      "source": [
        "movie_df = movie_df.loc[(movie_df['primaryTitle'].notnull()) & (movie_df['originalTitle'].notnull()) & (movie_df['genres'].notnull())]\r\n",
        "len(movie_df)"
      ],
      "execution_count": null,
      "outputs": [
        {
          "output_type": "execute_result",
          "data": {
            "text/plain": [
              "9000"
            ]
          },
          "metadata": {
            "tags": []
          },
          "execution_count": 7
        }
      ]
    },
    {
      "cell_type": "code",
      "metadata": {
        "colab": {
          "base_uri": "https://localhost:8080/"
        },
        "id": "VQAcJa5anoG8",
        "outputId": "a5873890-9936-40e6-cbaf-e85321c9a5bb"
      },
      "source": [
        "# replace value '\\\\N' in ['startYear'], ['endYear'], ['runtimeMinutes'] to np.nan and replace column cast to float64\r\n",
        "\r\n",
        "movie_df['startYear'] = movie_df['startYear'].replace('\\\\N', np.nan)\r\n",
        "movie_df['startYear'] = movie_df['startYear'].astype('float64')\r\n",
        "print(movie_df['startYear'].unique()[:5])\r\n",
        "\r\n",
        "movie_df['endYear'] = movie_df['endYear'].replace('\\\\N', np.nan)\r\n",
        "movie_df['endYear'] = movie_df['endYear'].astype('float64') \r\n",
        "print(movie_df['endYear'].unique()[:5])\r\n",
        "\r\n",
        "movie_df['runtimeMinutes'] = movie_df['runtimeMinutes'].replace('\\\\N', np.nan)\r\n",
        "movie_df['runtimeMinutes'] = movie_df['runtimeMinutes'].astype('float64')\r\n",
        "print(movie_df['runtimeMinutes'].unique()[:5])"
      ],
      "execution_count": null,
      "outputs": [
        {
          "output_type": "stream",
          "text": [
            "[1898. 2018. 2016. 1987. 1973.]\n",
            "[  nan 2005. 1955. 2006. 1999.]\n",
            "[nan 29.  7. 23. 85.]\n"
          ],
          "name": "stdout"
        }
      ]
    },
    {
      "cell_type": "code",
      "metadata": {
        "colab": {
          "base_uri": "https://localhost:8080/"
        },
        "id": "388bI2n8sEnj",
        "outputId": "7db4e985-3beb-45ff-c186-571d5ce41b1c"
      },
      "source": [
        "# transform values in ['genres'] to be a list\r\n",
        "def transform_to_list(x):\r\n",
        "    if ',' in x: \r\n",
        "        return x.split(',')\r\n",
        "    else: \r\n",
        "        return []\r\n",
        "\r\n",
        "movie_df['genres'] = movie_df['genres'].apply(lambda x: transform_to_list(x))\r\n",
        "movie_df['genres']"
      ],
      "execution_count": null,
      "outputs": [
        {
          "output_type": "execute_result",
          "data": {
            "text/plain": [
              "0       [Documentary, Short]\n",
              "1            [Comedy, Drama]\n",
              "2        [Comedy, Game-Show]\n",
              "3                         []\n",
              "4                         []\n",
              "                ...         \n",
              "8995                      []\n",
              "8996                      []\n",
              "8997                      []\n",
              "8998                      []\n",
              "8999         [Horror, Short]\n",
              "Name: genres, Length: 9000, dtype: object"
            ]
          },
          "metadata": {
            "tags": []
          },
          "execution_count": 9
        }
      ]
    },
    {
      "cell_type": "code",
      "metadata": {
        "colab": {
          "base_uri": "https://localhost:8080/",
          "height": 204
        },
        "id": "dVnLXCAUtLSf",
        "outputId": "aa35164b-e45e-4b49-cea5-8e8287b01d59"
      },
      "source": [
        "rating_df.head()"
      ],
      "execution_count": null,
      "outputs": [
        {
          "output_type": "execute_result",
          "data": {
            "text/html": [
              "<div>\n",
              "<style scoped>\n",
              "    .dataframe tbody tr th:only-of-type {\n",
              "        vertical-align: middle;\n",
              "    }\n",
              "\n",
              "    .dataframe tbody tr th {\n",
              "        vertical-align: top;\n",
              "    }\n",
              "\n",
              "    .dataframe thead th {\n",
              "        text-align: right;\n",
              "    }\n",
              "</style>\n",
              "<table border=\"1\" class=\"dataframe\">\n",
              "  <thead>\n",
              "    <tr style=\"text-align: right;\">\n",
              "      <th></th>\n",
              "      <th>tconst</th>\n",
              "      <th>averageRating</th>\n",
              "      <th>numVotes</th>\n",
              "    </tr>\n",
              "  </thead>\n",
              "  <tbody>\n",
              "    <tr>\n",
              "      <th>0</th>\n",
              "      <td>tt0000001</td>\n",
              "      <td>5.6</td>\n",
              "      <td>1608</td>\n",
              "    </tr>\n",
              "    <tr>\n",
              "      <th>1</th>\n",
              "      <td>tt0000002</td>\n",
              "      <td>6.0</td>\n",
              "      <td>197</td>\n",
              "    </tr>\n",
              "    <tr>\n",
              "      <th>2</th>\n",
              "      <td>tt0000003</td>\n",
              "      <td>6.5</td>\n",
              "      <td>1285</td>\n",
              "    </tr>\n",
              "    <tr>\n",
              "      <th>3</th>\n",
              "      <td>tt0000004</td>\n",
              "      <td>6.1</td>\n",
              "      <td>121</td>\n",
              "    </tr>\n",
              "    <tr>\n",
              "      <th>4</th>\n",
              "      <td>tt0000005</td>\n",
              "      <td>6.1</td>\n",
              "      <td>2050</td>\n",
              "    </tr>\n",
              "  </tbody>\n",
              "</table>\n",
              "</div>"
            ],
            "text/plain": [
              "      tconst  averageRating  numVotes\n",
              "0  tt0000001            5.6      1608\n",
              "1  tt0000002            6.0       197\n",
              "2  tt0000003            6.5      1285\n",
              "3  tt0000004            6.1       121\n",
              "4  tt0000005            6.1      2050"
            ]
          },
          "metadata": {
            "tags": []
          },
          "execution_count": 10
        }
      ]
    },
    {
      "cell_type": "code",
      "metadata": {
        "colab": {
          "base_uri": "https://localhost:8080/"
        },
        "id": "z6FDmdXVuuvQ",
        "outputId": "7edb7696-4e5b-4544-e336-556688d308df"
      },
      "source": [
        "rating_df.info()"
      ],
      "execution_count": null,
      "outputs": [
        {
          "output_type": "stream",
          "text": [
            "<class 'pandas.core.frame.DataFrame'>\n",
            "RangeIndex: 1030009 entries, 0 to 1030008\n",
            "Data columns (total 3 columns):\n",
            " #   Column         Non-Null Count    Dtype  \n",
            "---  ------         --------------    -----  \n",
            " 0   tconst         1030009 non-null  object \n",
            " 1   averageRating  1030009 non-null  float64\n",
            " 2   numVotes       1030009 non-null  int64  \n",
            "dtypes: float64(1), int64(1), object(1)\n",
            "memory usage: 23.6+ MB\n"
          ],
          "name": "stdout"
        }
      ]
    },
    {
      "cell_type": "code",
      "metadata": {
        "colab": {
          "base_uri": "https://localhost:8080/"
        },
        "id": "bpBgSc8juxMu",
        "outputId": "28aa6c3b-1306-449f-bd7c-a059523fa094"
      },
      "source": [
        "# inner join the movie_df & rating_df\r\n",
        "movie_rating_df = pd.merge(movie_df, rating_df, on='tconst', how='inner')\r\n",
        "print(movie_rating_df.head())\r\n",
        "print(movie_rating_df.info())"
      ],
      "execution_count": null,
      "outputs": [
        {
          "output_type": "stream",
          "text": [
            "      tconst  titleType  ... averageRating numVotes\n",
            "0  tt0043745      short  ...           7.1      459\n",
            "1  tt0167491      video  ...           5.7        7\n",
            "2  tt6574096  tvEpisode  ...           8.5      240\n",
            "3  tt6941700  tvEpisode  ...           8.0       11\n",
            "4  tt7305674      video  ...           9.7        7\n",
            "\n",
            "[5 rows x 11 columns]\n",
            "<class 'pandas.core.frame.DataFrame'>\n",
            "Int64Index: 1376 entries, 0 to 1375\n",
            "Data columns (total 11 columns):\n",
            " #   Column          Non-Null Count  Dtype  \n",
            "---  ------          --------------  -----  \n",
            " 0   tconst          1376 non-null   object \n",
            " 1   titleType       1376 non-null   object \n",
            " 2   primaryTitle    1376 non-null   object \n",
            " 3   originalTitle   1376 non-null   object \n",
            " 4   isAdult         1376 non-null   int64  \n",
            " 5   startYear       1376 non-null   float64\n",
            " 6   endYear         26 non-null     float64\n",
            " 7   runtimeMinutes  1004 non-null   float64\n",
            " 8   genres          1376 non-null   object \n",
            " 9   averageRating   1376 non-null   float64\n",
            " 10  numVotes        1376 non-null   int64  \n",
            "dtypes: float64(4), int64(2), object(5)\n",
            "memory usage: 129.0+ KB\n",
            "None\n"
          ],
          "name": "stdout"
        }
      ]
    },
    {
      "cell_type": "code",
      "metadata": {
        "colab": {
          "base_uri": "https://localhost:8080/"
        },
        "id": "w0nKlVgdxnVY",
        "outputId": "0695b6a1-5399-41e7-fca9-2ddf867c9934"
      },
      "source": [
        "# reducing table size by deleting null values in ['startYear'] & ['runtimeMinutes']\r\n",
        "movie_rating_df = movie_rating_df.dropna(subset = ['startYear','runtimeMinutes'])\r\n",
        "\r\n",
        "# make sure no null values\r\n",
        "print(movie_rating_df.info())"
      ],
      "execution_count": null,
      "outputs": [
        {
          "output_type": "stream",
          "text": [
            "<class 'pandas.core.frame.DataFrame'>\n",
            "Int64Index: 1004 entries, 0 to 1374\n",
            "Data columns (total 11 columns):\n",
            " #   Column          Non-Null Count  Dtype  \n",
            "---  ------          --------------  -----  \n",
            " 0   tconst          1004 non-null   object \n",
            " 1   titleType       1004 non-null   object \n",
            " 2   primaryTitle    1004 non-null   object \n",
            " 3   originalTitle   1004 non-null   object \n",
            " 4   isAdult         1004 non-null   int64  \n",
            " 5   startYear       1004 non-null   float64\n",
            " 6   endYear         17 non-null     float64\n",
            " 7   runtimeMinutes  1004 non-null   float64\n",
            " 8   genres          1004 non-null   object \n",
            " 9   averageRating   1004 non-null   float64\n",
            " 10  numVotes        1004 non-null   int64  \n",
            "dtypes: float64(4), int64(2), object(5)\n",
            "memory usage: 94.1+ KB\n",
            "None\n"
          ],
          "name": "stdout"
        }
      ]
    },
    {
      "cell_type": "markdown",
      "metadata": {
        "id": "uQ6CgLrPzI2Z"
      },
      "source": [
        ""
      ]
    },
    {
      "cell_type": "code",
      "metadata": {
        "colab": {
          "base_uri": "https://localhost:8080/"
        },
        "id": "fo76NuK1zH69",
        "outputId": "e3bb4fcf-b803-4e35-feb9-c92650336336"
      },
      "source": [
        "# find average of ['averageRating'] denoted as C\r\n",
        "\r\n",
        "C = movie_rating_df['averageRating'].mean()\r\n",
        "print(C)"
      ],
      "execution_count": null,
      "outputs": [
        {
          "output_type": "stream",
          "text": [
            "6.829581673306767\n"
          ],
          "name": "stdout"
        }
      ]
    },
    {
      "cell_type": "code",
      "metadata": {
        "colab": {
          "base_uri": "https://localhost:8080/"
        },
        "id": "C6kGL6ok1D_9",
        "outputId": "e336cc9e-30f9-4334-a8bc-c133331b88e6"
      },
      "source": [
        "# find film that has ['numVotes'] bigger than 80% of the population\r\n",
        "m = movie_rating_df['numVotes'].quantile(0.8)\r\n",
        "print(m)"
      ],
      "execution_count": null,
      "outputs": [
        {
          "output_type": "stream",
          "text": [
            "229.0\n"
          ],
          "name": "stdout"
        }
      ]
    },
    {
      "cell_type": "code",
      "metadata": {
        "colab": {
          "base_uri": "https://localhost:8080/"
        },
        "id": "870ZEgAP2Axe",
        "outputId": "b7b3f400-2fb3-475e-9596-395683eea6a2"
      },
      "source": [
        "# apply IMDB formula to get ['score']\r\n",
        "def imdb_weighted_rating(df, var=0.8):\r\n",
        "    v = df['numVotes']\r\n",
        "    R = df['averageRating']\r\n",
        "    C = df['averageRating'].mean()\r\n",
        "    m = df['numVotes'].quantile(var)\r\n",
        "    df['score'] = (v/(m+v))*R + (m/(m+v))*C\r\n",
        "    return df['score']\r\n",
        "    \r\n",
        "imdb_weighted_rating(movie_rating_df)\r\n",
        "print(movie_rating_df.head())"
      ],
      "execution_count": null,
      "outputs": [
        {
          "output_type": "stream",
          "text": [
            "      tconst  titleType  ... numVotes     score\n",
            "0  tt0043745      short  ...      459  7.009992\n",
            "1  tt0167491      video  ...        7  6.796077\n",
            "2  tt6574096  tvEpisode  ...      240  7.684380\n",
            "5  tt2262289      movie  ...       27  6.921384\n",
            "6  tt0874027  tvEpisode  ...        8  6.869089\n",
            "\n",
            "[5 rows x 12 columns]\n"
          ],
          "name": "stdout"
        }
      ]
    },
    {
      "cell_type": "code",
      "metadata": {
        "colab": {
          "base_uri": "https://localhost:8080/"
        },
        "id": "L9y6wwwo2iry",
        "outputId": "b17f6a5a-1acb-4339-a875-f7b4a780c850"
      },
      "source": [
        "# make simple recommender system\r\n",
        "def simple_recommender(df, top=100):\r\n",
        "    df = df.loc[df['numVotes'] >= m]\r\n",
        "    df = df.sort_values(by='score', ascending=False)\r\n",
        "    \r\n",
        "    df = df[:top]\r\n",
        "    df.info()\r\n",
        "    return df\r\n",
        "\r\n",
        "print(simple_recommender(movie_rating_df, top=25))\r\n"
      ],
      "execution_count": null,
      "outputs": [
        {
          "output_type": "stream",
          "text": [
            "<class 'pandas.core.frame.DataFrame'>\n",
            "Int64Index: 25 entries, 68 to 819\n",
            "Data columns (total 12 columns):\n",
            " #   Column          Non-Null Count  Dtype  \n",
            "---  ------          --------------  -----  \n",
            " 0   tconst          25 non-null     object \n",
            " 1   titleType       25 non-null     object \n",
            " 2   primaryTitle    25 non-null     object \n",
            " 3   originalTitle   25 non-null     object \n",
            " 4   isAdult         25 non-null     int64  \n",
            " 5   startYear       25 non-null     float64\n",
            " 6   endYear         0 non-null      float64\n",
            " 7   runtimeMinutes  25 non-null     float64\n",
            " 8   genres          25 non-null     object \n",
            " 9   averageRating   25 non-null     float64\n",
            " 10  numVotes        25 non-null     int64  \n",
            " 11  score           25 non-null     float64\n",
            "dtypes: float64(5), int64(2), object(5)\n",
            "memory usage: 2.5+ KB\n",
            "         tconst  titleType  ... numVotes     score\n",
            "68    tt4110822  tvEpisode  ...     3820  9.254624\n",
            "236   tt2200252      video  ...     1411  8.955045\n",
            "1181  tt7697962  tvEpisode  ...     1536  8.892450\n",
            "326   tt7124590  tvEpisode  ...     1859  8.850993\n",
            "1045  tt0533506  tvEpisode  ...     2740  8.740308\n",
            "71    tt8399426  tvEpisode  ...     1428  8.700045\n",
            "1234  tt2843830  tvEpisode  ...     1753  8.660784\n",
            "1087  tt4295140   tvSeries  ...    12056  8.566998\n",
            "1054  tt2503932  tvEpisode  ...     2495  8.451165\n",
            "448   tt0337566      video  ...     1343  8.256663\n",
            "624   tt0620159  tvEpisode  ...      401  8.020118\n",
            "1281  tt3166390  tvEpisode  ...      396  8.014679\n",
            "314   tt0954759  tvEpisode  ...     2766  8.002863\n",
            "189   tt5661506      video  ...      330  7.992798\n",
            "151   tt3954426  tvEpisode  ...      437  7.991253\n",
            "1344  tt6644294  tvEpisode  ...      812  7.976536\n",
            "1242  tt3677742  tvSpecial  ...     1931  7.965312\n",
            "1217  tt3642464  tvEpisode  ...      566  7.947641\n",
            "544   tt0734655  tvEpisode  ...     1559  7.937290\n",
            "49    tt9119838  tvEpisode  ...      263  7.936330\n",
            "357   tt4084774  tvEpisode  ...      289  7.928908\n",
            "1111  tt4174072  tvEpisode  ...     2898  7.914287\n",
            "790   tt4279086  tvEpisode  ...      823  7.901687\n",
            "972   tt0048028      movie  ...    38543  7.893678\n",
            "819   tt0032156      movie  ...     2974  7.823470\n",
            "\n",
            "[25 rows x 12 columns]\n"
          ],
          "name": "stdout"
        }
      ]
    },
    {
      "cell_type": "code",
      "metadata": {
        "id": "IHontQrpiaYC"
      },
      "source": [
        "df = movie_rating_df.copy()\r\n",
        "\r\n",
        "def user_prefer_recommender(df, ask_adult, ask_start_year, ask_genre, top=100):\r\n",
        "    #ask_adult = yes/no\r\n",
        "    if ask_adult.lower() == 'yes':\r\n",
        "        df = df.loc[df['isAdult'] == 1]\r\n",
        "    elif ask_adult.lower() == 'no':\r\n",
        "        df = df.loc[df['isAdult'] == 0]\r\n",
        "\r\n",
        "    #ask_start_year = numeric\r\n",
        "    df = df.loc[df['startYear'] >= int(ask_start_year)]\r\n",
        "\r\n",
        "    #ask_genre = 'all' atau yang lain\r\n",
        "    if ask_genre.lower() == 'all':\r\n",
        "        df = df\r\n",
        "    else:\r\n",
        "        def filter_genre(x):\r\n",
        "            if ask_genre.lower() in str(x).lower():\r\n",
        "                return True\r\n",
        "            else:\r\n",
        "                return False\r\n",
        "        df = df.loc[df['genres'].apply(lambda x: filter_genre(x))]\r\n",
        "\r\n",
        "    df = df.loc[df['numVotes'] >= m] #Mengambil film dengan m yang lebih besar dibanding numVotes\r\n",
        "    df = df.sort_values(by='score', ascending=False)\r\n",
        "    \r\n",
        "    #jika kamu hanya ingin mengambil 100 teratas\r\n",
        "    df = df[:top]\r\n",
        "    return df\r\n",
        "\r\n",
        "print(user_prefer_recommender(df,\r\n",
        "                       ask_adult = 'no',\r\n",
        "                        ask_start_year = 2000,\r\n",
        "                       ask_genre = 'drama'\r\n",
        "                       ))"
      ],
      "execution_count": null,
      "outputs": []
    }
  ]
}